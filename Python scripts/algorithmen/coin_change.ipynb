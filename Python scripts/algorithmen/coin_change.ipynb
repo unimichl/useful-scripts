{
 "cells": [
  {
   "cell_type": "markdown",
   "metadata": {},
   "source": [
    "## Change Problem: Recursive solution"
   ]
  },
  {
   "cell_type": "code",
   "execution_count": 3,
   "metadata": {},
   "outputs": [],
   "source": [
    "def rec_MC(coinValueList,change):\n",
    "    count[0] += 1\n",
    "    min_coins = change\n",
    "    if change in coinValueList:     \n",
    "        return 1        \n",
    "    else:\n",
    "        for i in [c for c in coinValueList if c <= change]:\n",
    "            num_coins = 1 + rec_MC(coinValueList,change-i)            \n",
    "            if num_coins < min_coins:\n",
    "                min_coins = num_coins\n",
    "    return min_coins"
   ]
  },
  {
   "cell_type": "code",
   "execution_count": 4,
   "metadata": {},
   "outputs": [
    {
     "name": "stdout",
     "output_type": "stream",
     "text": [
      "Number of coins: 4\n",
      "Number of recursive function calls: [124897979]\n"
     ]
    }
   ],
   "source": [
    "count = [0]\n",
    "print(f\"Number of coins: {rec_MC([1,5,10,25],65)}\")\n",
    "print(f\"Number of recursive function calls: {count}\")\n"
   ]
  },
  {
   "cell_type": "code",
   "execution_count": 5,
   "metadata": {},
   "outputs": [
    {
     "name": "stdout",
     "output_type": "stream",
     "text": [
      "5min 40s ± 7.05 s per loop (mean ± std. dev. of 7 runs, 1 loop each)\n"
     ]
    }
   ],
   "source": [
    "%timeit rec_MC([1,5,10,25],65)"
   ]
  },
  {
   "cell_type": "markdown",
   "metadata": {},
   "source": [
    "#### Wow, this really takes extraloooong"
   ]
  },
  {
   "cell_type": "markdown",
   "metadata": {},
   "source": [
    "## Change problem: Recursion + memoization"
   ]
  },
  {
   "cell_type": "code",
   "execution_count": 7,
   "metadata": {},
   "outputs": [],
   "source": [
    "def rec_MC_mem(coinValueList,change):\n",
    "    count[0] += 1\n",
    "    min_coins = change\n",
    "    if change in coinValueList:\n",
    "        known_results[change] = 1\n",
    "        return 1\n",
    "    elif known_results[change] > 0:\n",
    "        return known_results[change]\n",
    "    else:\n",
    "        for i in [c for c in coinValueList if c <= change]:\n",
    "            num_coins = 1 + rec_MC_mem(coinValueList, change-i)\n",
    "            if num_coins < min_coins:\n",
    "                min_coins = num_coins\n",
    "                known_results[change] = min_coins\n",
    "    return min_coins"
   ]
  },
  {
   "cell_type": "code",
   "execution_count": 8,
   "metadata": {},
   "outputs": [
    {
     "name": "stdout",
     "output_type": "stream",
     "text": [
      "Number of coins: 4\n",
      "Number of recursive function calls: [229]\n",
      "\n",
      "known_results:\n",
      "[0, 1, 0, 0, 0, 1, 2, 3, 4, 5, 1, 2, 3, 4, 5, 2, 3, 4, 5, 6, 2, 3, 4, 5, 6, 1, 2, 3, 4, 5, 2, 3, 4, 5, 6, 2, 3, 4, 5, 6, 3, 4, 5, 6, 7, 3, 4, 5, 6, 7, 2, 3, 4, 5, 6, 3, 4, 5, 6, 7, 3, 4, 5, 6, 7, 4]\n"
     ]
    }
   ],
   "source": [
    "count = [0]\n",
    "known_results = [0] * (66)\n",
    "print(f\"Number of coins: {rec_MC_mem([1,5,10,25],65)}\")\n",
    "print(f\"Number of recursive function calls: {count}\")\n",
    "print(f\"\\nknown_results:\\n{known_results}\")"
   ]
  },
  {
   "cell_type": "code",
   "execution_count": 10,
   "metadata": {},
   "outputs": [
    {
     "name": "stdout",
     "output_type": "stream",
     "text": [
      "2.29 µs ± 384 ns per loop (mean ± std. dev. of 7 runs, 100000 loops each)\n"
     ]
    }
   ],
   "source": [
    "%timeit rec_MC_mem([1,5,10,25],65)"
   ]
  },
  {
   "cell_type": "markdown",
   "metadata": {},
   "source": [
    "## Recursive + coin denominations"
   ]
  },
  {
   "cell_type": "code",
   "execution_count": 11,
   "metadata": {},
   "outputs": [],
   "source": [
    "def rec_MC_denom(coinValueList,change):\n",
    "    minCoins = change\n",
    "    coin_values = []\n",
    "    count[0] += 1\n",
    "    if change in coinValueList:\n",
    "        coin_values.append(change)\n",
    "        return 1, coin_values \n",
    "    else: \n",
    "        for i in [c for c in coinValueList if c <= change]: \n",
    "            numCoins, values = rec_MC_denom(coinValueList,change-i) \n",
    "            numCoins += 1\n",
    "            values.append(i)\n",
    "            if numCoins < minCoins:\n",
    "                minCoins = numCoins \n",
    "                coin_values = values\n",
    "    return minCoins, coin_values"
   ]
  },
  {
   "cell_type": "code",
   "execution_count": 12,
   "metadata": {},
   "outputs": [
    {
     "name": "stdout",
     "output_type": "stream",
     "text": [
      "Number of coins, used coins: (4, [25, 25, 10, 5])\n",
      "Number of recursive function calls: [124897979]\n"
     ]
    }
   ],
   "source": [
    "count = [0]\n",
    "print(f\"Number of coins, used coins: {rec_MC_denom([1,5,10,25],65)}\")\n",
    "print(f\"Number of recursive function calls: {count}\")\n"
   ]
  },
  {
   "cell_type": "code",
   "execution_count": 13,
   "metadata": {},
   "outputs": [
    {
     "name": "stdout",
     "output_type": "stream",
     "text": [
      "7min 12s ± 4.43 s per loop (mean ± std. dev. of 7 runs, 1 loop each)\n"
     ]
    }
   ],
   "source": [
    "%timeit rec_MC_denom([1,5,10,25],65)"
   ]
  },
  {
   "cell_type": "markdown",
   "metadata": {},
   "source": [
    "## Recursive + coin denominations + memoization"
   ]
  },
  {
   "cell_type": "code",
   "execution_count": 2,
   "metadata": {},
   "outputs": [],
   "source": [
    "def rec_MC_denom_mem(coinValueList,change):\n",
    "    count[0] += 1\n",
    "    min_coins = change\n",
    "    coin_values = [] \n",
    "    if change in coinValueList:\n",
    "        coin_values.append(change)        \n",
    "        known_min_coins[change] = 1\n",
    "        known_coin_values[change] = coin_values\n",
    "        return 1, coin_values\n",
    "    elif known_min_coins[change] > 0:\n",
    "        return known_min_coins[change], known_coin_values[change]        \n",
    "    else: \n",
    "        for i in [c for c in coinValueList if c <= change]: \n",
    "            num_coins, values = rec_MC_denom_mem(coinValueList,change-i) \n",
    "            num_coins += 1\n",
    "            values = [*values, i]            \n",
    "            if num_coins < min_coins:\n",
    "                min_coins = num_coins \n",
    "                known_min_coins[change] = min_coins\n",
    "                known_coin_values[change] = values\n",
    "    return min_coins, known_coin_values[change]"
   ]
  },
  {
   "cell_type": "code",
   "execution_count": null,
   "metadata": {},
   "outputs": [],
   "source": [
    "count = [0]\n",
    "known_min_coins = [0] * 100001\n",
    "known_coin_values = [[0]] * 100001\n",
    "\n",
    "print(f\"Number of coins, [coin values]: {rec_MC_denom_mem([1,5,10,21, 25],10000)}\")\n",
    "print(f\"Number of recursive function calls: {count}\")\n",
    "#print(f\"\\nknown_min_coins:\\n{known_min_coins}\")\n",
    "#print(f\"\\nknown_coin_values:\\n{known_coin_values}\")"
   ]
  },
  {
   "cell_type": "code",
   "execution_count": 8,
   "metadata": {},
   "outputs": [
    {
     "name": "stdout",
     "output_type": "stream",
     "text": [
      "3000\n"
     ]
    }
   ],
   "source": [
    "import sys\n",
    "print(sys.getrecursionlimit())"
   ]
  },
  {
   "cell_type": "code",
   "execution_count": 16,
   "metadata": {},
   "outputs": [
    {
     "name": "stdout",
     "output_type": "stream",
     "text": [
      "2.91 µs ± 387 ns per loop (mean ± std. dev. of 7 runs, 100000 loops each)\n"
     ]
    }
   ],
   "source": [
    "%timeit rec_MC_denom_mem([1,5,10,25],65)"
   ]
  },
  {
   "cell_type": "markdown",
   "metadata": {},
   "source": [
    "## Iterative solution: "
   ]
  },
  {
   "cell_type": "code",
   "execution_count": 5,
   "metadata": {},
   "outputs": [],
   "source": [
    "def iterative_MC(coinValueList,change):\n",
    "    min_coins = [0]* (change+1)\n",
    "    coin_lst = [[]]*(change+1) \n",
    "    for cents in range(change+1):\n",
    "        coin_count = cents\n",
    "        coins = [1]*cents       \n",
    "        for j in [c for c in coinValueList if c <= cents]:\n",
    "            if min_coins[cents-j] + 1 < coin_count:\n",
    "                coin_count = min_coins[cents-j]+1\n",
    "                coins = [*coin_lst[cents-j], j] \n",
    "            min_coins[cents] = coin_count\n",
    "            coin_lst[cents] = coins       \n",
    "    #print(f\"coin_lst:\\n{coin_lst}\\n\")\n",
    "    #print(f\"min_coins:\\n{min_coins}\\n\")\n",
    "    return min_coins[change], coin_lst [change]"
   ]
  },
  {
   "cell_type": "code",
   "execution_count": 6,
   "metadata": {},
   "outputs": [
    {
     "name": "stdout",
     "output_type": "stream",
     "text": [
      "Number of coins, [coin values]: (3, [21, 21, 21])\n"
     ]
    }
   ],
   "source": [
    "print(f\"Number of coins, [coin values]: {iterative_MC([1,5,10,21,25],63)}\")\n"
   ]
  },
  {
   "cell_type": "code",
   "execution_count": 25,
   "metadata": {},
   "outputs": [
    {
     "name": "stdout",
     "output_type": "stream",
     "text": [
      "453 µs ± 61.5 µs per loop (mean ± std. dev. of 7 runs, 1000 loops each)\n"
     ]
    }
   ],
   "source": [
    "%timeit iterative_MC([1,5,10,25],65)\n"
   ]
  },
  {
   "cell_type": "code",
   "execution_count": null,
   "metadata": {},
   "outputs": [],
   "source": []
  },
  {
   "cell_type": "code",
   "execution_count": null,
   "metadata": {},
   "outputs": [],
   "source": []
  },
  {
   "cell_type": "code",
   "execution_count": 1,
   "metadata": {},
   "outputs": [
    {
     "data": {
      "text/plain": [
       "\u001b[0;31mDocstring:\u001b[0m\n",
       "Time execution of a Python statement or expression\n",
       "\n",
       "Usage, in line mode:\n",
       "  %timeit [-n<N> -r<R> [-t|-c] -q -p<P> -o] statement\n",
       "or in cell mode:\n",
       "  %%timeit [-n<N> -r<R> [-t|-c] -q -p<P> -o] setup_code\n",
       "  code\n",
       "  code...\n",
       "\n",
       "Time execution of a Python statement or expression using the timeit\n",
       "module.  This function can be used both as a line and cell magic:\n",
       "\n",
       "- In line mode you can time a single-line statement (though multiple\n",
       "  ones can be chained with using semicolons).\n",
       "\n",
       "- In cell mode, the statement in the first line is used as setup code\n",
       "  (executed but not timed) and the body of the cell is timed.  The cell\n",
       "  body has access to any variables created in the setup code.\n",
       "\n",
       "Options:\n",
       "-n<N>: execute the given statement <N> times in a loop. If <N> is not\n",
       "provided, <N> is determined so as to get sufficient accuracy.\n",
       "\n",
       "-r<R>: number of repeats <R>, each consisting of <N> loops, and take the\n",
       "best result.\n",
       "Default: 7\n",
       "\n",
       "-t: use time.time to measure the time, which is the default on Unix.\n",
       "This function measures wall time.\n",
       "\n",
       "-c: use time.clock to measure the time, which is the default on\n",
       "Windows and measures wall time. On Unix, resource.getrusage is used\n",
       "instead and returns the CPU user time.\n",
       "\n",
       "-p<P>: use a precision of <P> digits to display the timing result.\n",
       "Default: 3\n",
       "\n",
       "-q: Quiet, do not print result.\n",
       "\n",
       "-o: return a TimeitResult that can be stored in a variable to inspect\n",
       "    the result in more details.\n",
       "\n",
       ".. versionchanged:: 7.3\n",
       "    User variables are no longer expanded,\n",
       "    the magic line is always left unmodified.\n",
       "\n",
       "Examples\n",
       "--------\n",
       "::\n",
       "\n",
       "  In [1]: %timeit pass\n",
       "  8.26 ns ± 0.12 ns per loop (mean ± std. dev. of 7 runs, 100000000 loops each)\n",
       "\n",
       "  In [2]: u = None\n",
       "\n",
       "  In [3]: %timeit u is None\n",
       "  29.9 ns ± 0.643 ns per loop (mean ± std. dev. of 7 runs, 10000000 loops each)\n",
       "\n",
       "  In [4]: %timeit -r 4 u == None\n",
       "\n",
       "  In [5]: import time\n",
       "\n",
       "  In [6]: %timeit -n1 time.sleep(2)\n",
       "\n",
       "\n",
       "The times reported by %timeit will be slightly higher than those\n",
       "reported by the timeit.py script when variables are accessed. This is\n",
       "due to the fact that %timeit executes the statement in the namespace\n",
       "of the shell, compared with timeit.py, which uses a single setup\n",
       "statement to import function or create variables. Generally, the bias\n",
       "does not matter as long as results from timeit.py are not mixed with\n",
       "those from %timeit.\n",
       "\u001b[0;31mFile:\u001b[0m      ~/anaconda3/lib/python3.8/site-packages/IPython/core/magics/execution.py\n"
      ]
     },
     "metadata": {},
     "output_type": "display_data"
    }
   ],
   "source": [
    "%timeit?"
   ]
  },
  {
   "cell_type": "code",
   "execution_count": null,
   "metadata": {},
   "outputs": [],
   "source": []
  }
 ],
 "metadata": {
  "kernelspec": {
   "display_name": "Python 3",
   "language": "python",
   "name": "python3"
  },
  "language_info": {
   "codemirror_mode": {
    "name": "ipython",
    "version": 3
   },
   "file_extension": ".py",
   "mimetype": "text/x-python",
   "name": "python",
   "nbconvert_exporter": "python",
   "pygments_lexer": "ipython3",
   "version": "3.8.5"
  }
 },
 "nbformat": 4,
 "nbformat_minor": 4
}
